{
  "nbformat": 4,
  "nbformat_minor": 0,
  "metadata": {
    "colab": {
      "provenance": []
    },
    "kernelspec": {
      "name": "python3",
      "display_name": "Python 3"
    },
    "language_info": {
      "name": "python"
    }
  },
  "cells": [
    {
      "cell_type": "code",
      "execution_count": null,
      "metadata": {
        "id": "50Vg5M3yRfx-"
      },
      "outputs": [],
      "source": [
        "data_dir = os.getenv('HOME')+'/aiffel/kaggle_kakr_housing/data'\n",
        "\n",
        "train_data_path = join(data_dir, 'train.csv')\n",
        "test_data_path = join(data_dir, 'test.csv') \n",
        "\n",
        "train = pd.read_csv(train_data_path)\n",
        "test = pd.read_csv(test_data_path)"
      ]
    },
    {
      "cell_type": "code",
      "source": [
        "#데이터 분리 \n",
        "\n",
        "# date change\n",
        "train['date'] = train['date'].apply(lambda i: i[:6]).astype(int)\n",
        "\n",
        "y = train['price']\n",
        "del train['price']\n",
        "del train['id']\n",
        "\n",
        "# test의 id 컬럼 삭제\n",
        "test['date'] = test['date'].apply(lambda i: i[:6]).astype(int)\n",
        "\n",
        "del test['id']\n",
        "\n",
        "# y log change\n",
        "y = np.log1p(y)"
      ],
      "metadata": {
        "id": "pQQwexmYRunr"
      },
      "execution_count": null,
      "outputs": []
    },
    {
      "cell_type": "code",
      "source": [
        "#하이퍼파라미터 튜닝\n",
        "\n",
        "from sklearn.model_selection import RandomizedSearchCV\n",
        "\n",
        "def my_RandomSearch(model, train, y, param, n_iter= 5, verbose=1, n_jobs=5):\n",
        "  \n",
        "    # 1. GridSearchCV 모델로 `model` 초기화\n",
        "    random_model = RandomizedSearchCV(model, param_distributions=param, \\\n",
        "                        scoring='neg_mean_squared_error', \\\n",
        "                              n_iter =  n_iter, \\\n",
        "                        cv=10, verbose=1, n_jobs=-1)\n",
        "    \n",
        "    # 2. 모델을 fitting \n",
        "    random_model.fit(train, y)\n",
        "    \n",
        "    # 3. params, score에 각 조합에 대한 결과를 저장\n",
        "    params = random_model.cv_results_['params']\n",
        "    score = random_model.cv_results_['mean_test_score']\n",
        "    \n",
        "    # 4. 데이터 프레임 생성\n",
        "    results = pd.DataFrame(params)\n",
        "    results[\"score\"] = score\n",
        "    \n",
        "    # 5. RMSLE 값을 추가한 후 점수가 높은 순서로 정렬한 `results`를 반환\n",
        "    results['RMSLE'] = np.sqrt(-1 * results['score'])\n",
        "    \n",
        "    results = results.sort_values(\"RMSLE\")\n",
        "    return results\n",
        "#try after getting score which is lower 110000\n",
        "param = {\n",
        "    'n_estimators': [int(x) for x in range(370,450,2)],\n",
        "    'max_depth': [int(x) for x in range(8,10)],}\n",
        "n_iter = 100\n",
        "\n",
        "model = LGBMRegressor(random_state=random_state)\n",
        "my_RandomSearch(model, train, y, param, n_iter, verbose=1) \n",
        "\n"
      ],
      "metadata": {
        "id": "xHLQH5vDSOHS"
      },
      "execution_count": null,
      "outputs": []
    },
    {
      "cell_type": "code",
      "source": [
        "model = LGBMRegressor(max_depth=9, n_estimators=394, random_state=random_state)\n",
        "model.fit(train, y)\n",
        "\n",
        "prediction = model.predict(test)\n",
        "prediction = np.expm1(prediction)\n",
        "prediction"
      ],
      "metadata": {
        "id": "E80SheK0SlN2"
      },
      "execution_count": null,
      "outputs": []
    },
    {
      "cell_type": "code",
      "source": [
        "array([ 499507.08087058,  499061.13393179, 1374025.54000982, ...,\n",
        "        471354.80486254,  320740.69734001])"
      ],
      "metadata": {
        "id": "D5jnraupSl84"
      },
      "execution_count": null,
      "outputs": []
    },
    {
      "cell_type": "code",
      "source": [
        "def save_submission(model, train, y, test, model_name, rmsle=None):\n",
        "    model.fit(train, y)\n",
        "    prediction = model.predict(test)\n",
        "    prediction = np.expm1(prediction)\n",
        "    data_dir = os.getenv('HOME')+'/aiffel/kaggle_kakr_housing/data'\n",
        "    submission_path = join(data_dir, 'sample_submission.csv')\n",
        "    submission = pd.read_csv(submission_path)\n",
        "    submission['price'] = prediction\n",
        "    submission_csv_path = '{}/submission_{}_RMSLE_{}.csv'.format(data_dir, model_name, rmsle)\n",
        "    submission.to_csv(submission_csv_path, index=False)\n",
        "    print('{} saved!'.format(submission_csv_path))"
      ],
      "metadata": {
        "id": "oIEb5G9kSrio"
      },
      "execution_count": null,
      "outputs": []
    },
    {
      "cell_type": "code",
      "source": [
        "save_submission(model, train, y, test, 'lgbm', rmsle = '0.161371')"
      ],
      "metadata": {
        "id": "el83Z9Y2SymQ"
      },
      "execution_count": null,
      "outputs": []
    }
  ]
}